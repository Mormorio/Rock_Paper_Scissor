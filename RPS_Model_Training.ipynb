{
 "cells": [
  {
   "cell_type": "markdown",
   "id": "445fb83c",
   "metadata": {},
   "source": [
    "# Model construction and training"
   ]
  },
  {
   "cell_type": "markdown",
   "id": "04397e84",
   "metadata": {},
   "source": [
    "In this notebook, we load the data collected previously and use it to train the classifier for rock-paper-scissors."
   ]
  },
  {
   "cell_type": "markdown",
   "id": "568f5554",
   "metadata": {},
   "source": [
    "Since it's necessary also to recognize the \"ok\" position to start the game, we have decided to create a single model (to facilitate the deployment) with 4 classes to be used in both the preparation and actual game phases."
   ]
  },
  {
   "cell_type": "markdown",
   "id": "42e43238",
   "metadata": {},
   "source": [
    "Libraries"
   ]
  },
  {
   "cell_type": "code",
   "execution_count": 12,
   "id": "bd474686",
   "metadata": {},
   "outputs": [],
   "source": [
    "import pandas as pd\n",
    "import tensorflow as tf\n",
    "from tensorflow import keras\n",
    "from sklearn.model_selection import train_test_split\n",
    "import numpy as np\n",
    "from tensorflow.keras.models import save_model\n",
    "from sklearn.metrics import confusion_matrix, ConfusionMatrixDisplay, classification_report\n",
    "import matplotlib.pyplot as plt"
   ]
  },
  {
   "cell_type": "markdown",
   "id": "152dfa4e",
   "metadata": {},
   "source": [
    "Dataset loading"
   ]
  },
  {
   "cell_type": "code",
   "execution_count": 2,
   "id": "e230c003",
   "metadata": {},
   "outputs": [],
   "source": [
    "#Data regarding the distances between the landmarks\n",
    "path = \"C:\\\\Users\\\\fturc\\\\RPS\\\\dist_data.csv\"\n",
    "data = pd.read_csv(path, header=None)\n",
    "data = np.asarray(data)"
   ]
  },
  {
   "cell_type": "markdown",
   "id": "c6a0aaa7",
   "metadata": {},
   "source": [
    "Labels"
   ]
  },
  {
   "cell_type": "code",
   "execution_count": 3,
   "id": "4df3db6e",
   "metadata": {},
   "outputs": [],
   "source": [
    "z = [0] * int((len(data)/4)) + [1] * int((len(data)/4)) + [2] * int((len(data)/4)) + [3] * int((len(data)/4))\n",
    "z=np.asarray(z)"
   ]
  },
  {
   "cell_type": "markdown",
   "id": "0411ca74",
   "metadata": {},
   "source": [
    "Train, test and evaluation split"
   ]
  },
  {
   "cell_type": "code",
   "execution_count": 4,
   "id": "d5445619",
   "metadata": {},
   "outputs": [],
   "source": [
    "X_train, X_test_ev, z_train, z_test_ev = train_test_split(data, z, test_size=0.2, random_state=45)\n",
    "X_val, X_test, z_val, z_test = train_test_split(X_test_ev, z_test_ev, test_size=0.5, random_state=45)"
   ]
  },
  {
   "cell_type": "markdown",
   "id": "5af8da53",
   "metadata": {},
   "source": [
    "## Model"
   ]
  },
  {
   "cell_type": "markdown",
   "id": "d3a445a6",
   "metadata": {},
   "source": [
    "Mlp model with 4 layers of decreasing size"
   ]
  },
  {
   "cell_type": "code",
   "execution_count": 5,
   "id": "99af40c4",
   "metadata": {},
   "outputs": [
    {
     "name": "stdout",
     "output_type": "stream",
     "text": [
      "Model: \"model_mlp\"\n",
      "_________________________________________________________________\n",
      " Layer (type)                Output Shape              Param #   \n",
      "=================================================================\n",
      " input_layer (InputLayer)    [(None, 210)]             0         \n",
      "                                                                 \n",
      " linear_1 (Dense)            (None, 265)               55915     \n",
      "                                                                 \n",
      " linear_2 (Dense)            (None, 128)               34048     \n",
      "                                                                 \n",
      " linear_3 (Dense)            (None, 64)                8256      \n",
      "                                                                 \n",
      " class (Dense)               (None, 4)                 260       \n",
      "                                                                 \n",
      "=================================================================\n",
      "Total params: 98,479\n",
      "Trainable params: 98,479\n",
      "Non-trainable params: 0\n",
      "_________________________________________________________________\n",
      "None\n"
     ]
    }
   ],
   "source": [
    "def model_mlp(num_classes=4, print_summary=False):\n",
    "\n",
    "    input = tf.keras.layers.Input(len(data[0]), name=\"input_layer\")\n",
    "    x = tf.keras.layers.Dense(265, activation='relu', input_shape=(len(data[0]),), name=\"linear_1\")(input)\n",
    "    x = tf.keras.layers.Dense(128, activation='relu', name='linear_2')(x)\n",
    "    x = tf.keras.layers.Dense(64, activation='relu', name='linear_3')(x)\n",
    "    \n",
    "    classification_out = tf.keras.layers.Dense(num_classes, activation='softmax', name='class')(x)\n",
    "\n",
    "    model = tf.keras.models.Model(inputs=input, outputs=classification_out, name='model_mlp')\n",
    "\n",
    "    if print_summary:\n",
    "        print(model.summary())\n",
    "\n",
    "    return model\n",
    "\n",
    "model = model_mlp(print_summary=True)"
   ]
  },
  {
   "cell_type": "code",
   "execution_count": 8,
   "id": "6f8f327b",
   "metadata": {},
   "outputs": [],
   "source": [
    "optimizer = tf.keras.optimizers.Adam(learning_rate=0.001)\n",
    "model.compile(optimizer=optimizer, loss='sparse_categorical_crossentropy', metrics=['accuracy'])"
   ]
  },
  {
   "cell_type": "markdown",
   "id": "6e1a14ce",
   "metadata": {},
   "source": [
    "## Training"
   ]
  },
  {
   "cell_type": "code",
   "execution_count": 9,
   "id": "1b7551fe",
   "metadata": {},
   "outputs": [
    {
     "name": "stdout",
     "output_type": "stream",
     "text": [
      "Epoch 1/30\n",
      "10/10 [==============================] - 1s 17ms/step - loss: 0.1033 - accuracy: 0.9695 - val_loss: 0.4004 - val_accuracy: 0.9125\n",
      "Epoch 2/30\n",
      "10/10 [==============================] - 0s 6ms/step - loss: 0.0846 - accuracy: 0.9734 - val_loss: 0.1014 - val_accuracy: 0.9812\n",
      "Epoch 3/30\n",
      "10/10 [==============================] - 0s 5ms/step - loss: 0.0249 - accuracy: 0.9914 - val_loss: 0.1253 - val_accuracy: 0.9688\n",
      "Epoch 4/30\n",
      "10/10 [==============================] - 0s 5ms/step - loss: 0.0183 - accuracy: 0.9961 - val_loss: 0.0894 - val_accuracy: 0.9750\n",
      "Epoch 5/30\n",
      "10/10 [==============================] - 0s 6ms/step - loss: 0.0121 - accuracy: 0.9977 - val_loss: 0.0937 - val_accuracy: 0.9812\n",
      "Epoch 6/30\n",
      "10/10 [==============================] - 0s 5ms/step - loss: 0.0084 - accuracy: 1.0000 - val_loss: 0.1027 - val_accuracy: 0.9812\n",
      "Epoch 7/30\n",
      "10/10 [==============================] - 0s 6ms/step - loss: 0.0086 - accuracy: 0.9977 - val_loss: 0.0909 - val_accuracy: 0.9750\n",
      "Epoch 8/30\n",
      "10/10 [==============================] - 0s 5ms/step - loss: 0.0095 - accuracy: 0.9961 - val_loss: 0.1216 - val_accuracy: 0.9625\n",
      "Epoch 9/30\n",
      "10/10 [==============================] - 0s 5ms/step - loss: 0.0085 - accuracy: 0.9977 - val_loss: 0.0964 - val_accuracy: 0.9750\n",
      "Epoch 10/30\n",
      "10/10 [==============================] - 0s 6ms/step - loss: 0.0060 - accuracy: 0.9984 - val_loss: 0.0934 - val_accuracy: 0.9750\n",
      "Epoch 11/30\n",
      "10/10 [==============================] - 0s 6ms/step - loss: 0.0057 - accuracy: 0.9992 - val_loss: 0.1068 - val_accuracy: 0.9812\n",
      "Epoch 12/30\n",
      "10/10 [==============================] - 0s 6ms/step - loss: 0.0043 - accuracy: 1.0000 - val_loss: 0.0930 - val_accuracy: 0.9750\n",
      "Epoch 13/30\n",
      "10/10 [==============================] - 0s 6ms/step - loss: 0.0067 - accuracy: 0.9984 - val_loss: 0.1096 - val_accuracy: 0.9812\n",
      "Epoch 14/30\n",
      "10/10 [==============================] - 0s 5ms/step - loss: 0.0045 - accuracy: 0.9992 - val_loss: 0.1033 - val_accuracy: 0.9812\n",
      "Epoch 15/30\n",
      "10/10 [==============================] - 0s 6ms/step - loss: 0.0058 - accuracy: 0.9977 - val_loss: 0.0941 - val_accuracy: 0.9688\n",
      "Epoch 16/30\n",
      "10/10 [==============================] - 0s 7ms/step - loss: 0.0037 - accuracy: 1.0000 - val_loss: 0.0997 - val_accuracy: 0.9812\n",
      "Epoch 17/30\n",
      "10/10 [==============================] - 0s 6ms/step - loss: 0.0039 - accuracy: 1.0000 - val_loss: 0.1129 - val_accuracy: 0.9812\n",
      "Epoch 18/30\n",
      "10/10 [==============================] - 0s 5ms/step - loss: 0.0027 - accuracy: 1.0000 - val_loss: 0.0957 - val_accuracy: 0.9750\n",
      "Epoch 19/30\n",
      "10/10 [==============================] - 0s 5ms/step - loss: 0.0027 - accuracy: 1.0000 - val_loss: 0.0992 - val_accuracy: 0.9812\n",
      "Epoch 20/30\n",
      "10/10 [==============================] - 0s 6ms/step - loss: 0.0023 - accuracy: 1.0000 - val_loss: 0.1014 - val_accuracy: 0.9812\n",
      "Epoch 21/30\n",
      "10/10 [==============================] - 0s 6ms/step - loss: 0.0024 - accuracy: 0.9992 - val_loss: 0.1037 - val_accuracy: 0.9812\n",
      "Epoch 22/30\n",
      "10/10 [==============================] - 0s 6ms/step - loss: 0.0022 - accuracy: 1.0000 - val_loss: 0.1022 - val_accuracy: 0.9812\n",
      "Epoch 23/30\n",
      "10/10 [==============================] - 0s 6ms/step - loss: 0.0018 - accuracy: 1.0000 - val_loss: 0.1003 - val_accuracy: 0.9812\n",
      "Epoch 24/30\n",
      "10/10 [==============================] - 0s 5ms/step - loss: 0.0017 - accuracy: 1.0000 - val_loss: 0.1041 - val_accuracy: 0.9812\n",
      "Epoch 25/30\n",
      "10/10 [==============================] - 0s 5ms/step - loss: 0.0016 - accuracy: 1.0000 - val_loss: 0.1093 - val_accuracy: 0.9812\n",
      "Epoch 26/30\n",
      "10/10 [==============================] - 0s 5ms/step - loss: 0.0015 - accuracy: 1.0000 - val_loss: 0.1019 - val_accuracy: 0.9812\n",
      "Epoch 27/30\n",
      "10/10 [==============================] - 0s 6ms/step - loss: 0.0022 - accuracy: 1.0000 - val_loss: 0.1113 - val_accuracy: 0.9812\n",
      "Epoch 28/30\n",
      "10/10 [==============================] - 0s 6ms/step - loss: 0.0027 - accuracy: 0.9992 - val_loss: 0.1138 - val_accuracy: 0.9812\n",
      "Epoch 29/30\n",
      "10/10 [==============================] - 0s 6ms/step - loss: 0.0027 - accuracy: 1.0000 - val_loss: 0.1299 - val_accuracy: 0.9750\n",
      "Epoch 30/30\n",
      "10/10 [==============================] - 0s 6ms/step - loss: 0.0023 - accuracy: 1.0000 - val_loss: 0.1248 - val_accuracy: 0.9812\n",
      "5/5 [==============================] - 0s 2ms/step - loss: 0.0936 - accuracy: 0.9812\n",
      "Accuracy on test: 0.981249988079071\n"
     ]
    }
   ],
   "source": [
    "history = model.fit(X_train, z_train, epochs=30, batch_size=128, validation_data=(X_val, z_val))\n",
    "\n",
    "test_loss, test_accuracy = model.evaluate(X_test, z_test)\n",
    "print(f'Accuracy on test: {test_accuracy}')\n",
    "\n",
    "train_accuracy = history.history['accuracy']\n",
    "val_accuracy = history.history['val_accuracy']"
   ]
  },
  {
   "cell_type": "markdown",
   "id": "3928da4a",
   "metadata": {},
   "source": [
    "## Results"
   ]
  },
  {
   "cell_type": "code",
   "execution_count": 13,
   "id": "f8096980",
   "metadata": {},
   "outputs": [],
   "source": [
    "def plot_results(tr,val):\n",
    "    epochs = range(1, len(tr) + 1)\n",
    "    plt.plot(epochs, train_accuracy, 'b', label='Training Accuracy')\n",
    "    plt.plot(epochs, val, 'r', label='Validation Accuracy')\n",
    "    plt.title('Training and Validation Accuracy')\n",
    "    plt.xlabel('Epochs')\n",
    "    plt.ylabel('Accuracy')\n",
    "    plt.legend()\n",
    "    plt.show()"
   ]
  },
  {
   "cell_type": "code",
   "execution_count": 14,
   "id": "712756b8",
   "metadata": {},
   "outputs": [
    {
     "data": {
      "image/png": "[encoded data removed]",
      "text/plain": [
       "<Figure size 640x480 with 1 Axes>"
      ]
     },
     "metadata": {},
     "output_type": "display_data"
    }
   ],
   "source": [
    "plot_results(train_accuracy, val_accuracy)"
   ]
  },
  {
   "cell_type": "code",
   "execution_count": 15,
   "id": "d745ab7b",
   "metadata": {},
   "outputs": [],
   "source": [
    "pose_map = {\n",
    "     0: \"rock\",\n",
    "     1: \"paper\",\n",
    "     2: \"scissors\",\n",
    "     3: \"ok\"\n",
    "}"
   ]
  },
  {
   "cell_type": "code",
   "execution_count": 16,
   "id": "5bb6b27c",
   "metadata": {},
   "outputs": [],
   "source": [
    "def report(X, y_gt):\n",
    "    #This function takes both the values and the labels for which we want the report as input\n",
    "\n",
    "    #y_gt is groung truth, y_pm is prediction of the model\n",
    "\n",
    "    y_pm = model.predict(X)  #Predictions of the test set\n",
    "    y_pm = np.argmax(y_pm, axis=1) #Get the class\n",
    "\n",
    "    class_labels = list(pose_map.values())\n",
    "\n",
    "    print(classification_report(y_gt, y_pm, target_names=class_labels))"
   ]
  },
  {
   "cell_type": "code",
   "execution_count": 17,
   "id": "6560c787",
   "metadata": {},
   "outputs": [],
   "source": [
    "#Plot confusion matrix\n",
    "def plot_confusion_matrix(X, y_gt):\n",
    "    #This function takes both the values and the labels for which we want the confusion matrix as input\n",
    "\n",
    "    #y_gt is ground truth, y_pm is the prediction of the model\n",
    "\n",
    "    y_pm = model.predict(X)  #Predictions of the set\n",
    "    y_pm = np.argmax(y_pm, axis=1) #Get the class\n",
    "\n",
    "    y_gt = [pose_map[l] for l in y_gt]  #From number to text\n",
    "    y_pm = [pose_map[l] for l in y_pm]\n",
    "\n",
    "    class_labels = list(pose_map.values())\n",
    "\n",
    "    cm = confusion_matrix(y_gt, y_pm, labels=class_labels, normalize='true')\n",
    "\n",
    "    cm = np.around(cm, decimals=2)\n",
    "\n",
    "    print(\"\\nConfusion Matrix:\")\n",
    "    disp = ConfusionMatrixDisplay(confusion_matrix=cm, display_labels=class_labels)\n",
    "    disp.plot()\n",
    "\n",
    "    #rotate labels on x axe\n",
    "    ax = plt.gca()\n",
    "\n",
    "    ax.set_xticks(ax.get_xticks())\n",
    "    ax.set_xticklabels(class_labels, rotation=90, ha='center')\n",
    "\n",
    "    plt.show()"
   ]
  },
  {
   "cell_type": "code",
   "execution_count": 19,
   "id": "82182c76",
   "metadata": {},
   "outputs": [
    {
     "name": "stdout",
     "output_type": "stream",
     "text": [
      "5/5 [==============================] - 0s 2ms/step\n",
      "              precision    recall  f1-score   support\n",
      "\n",
      "        rock       0.98      1.00      0.99        45\n",
      "       paper       0.97      1.00      0.99        36\n",
      "    scissors       1.00      0.95      0.97        37\n",
      "          ok       0.98      0.98      0.98        42\n",
      "\n",
      "    accuracy                           0.98       160\n",
      "   macro avg       0.98      0.98      0.98       160\n",
      "weighted avg       0.98      0.98      0.98       160\n",
      "\n"
     ]
    }
   ],
   "source": [
    "report(X_test, z_test)"
   ]
  },
  {
   "cell_type": "code",
   "execution_count": 20,
   "id": "f220d10a",
   "metadata": {},
   "outputs": [
    {
     "name": "stdout",
     "output_type": "stream",
     "text": [
      "5/5 [==============================] - 0s 1ms/step\n",
      "\n",
      "Confusion Matrix:\n"
     ]
    },
    {
     "data": {
      "image/png": "[encoded data removed]",
      "text/plain": [
       "<Figure size 640x480 with 2 Axes>"
      ]
     },
     "metadata": {},
     "output_type": "display_data"
    }
   ],
   "source": [
    "plot_confusion_matrix(X_test, z_test)"
   ]
  },
  {
   "cell_type": "markdown",
   "id": "f29d5c3a",
   "metadata": {},
   "source": [
    "Save model"
   ]
  },
  {
   "cell_type": "code",
   "execution_count": null,
   "id": "48ae6003",
   "metadata": {},
   "outputs": [],
   "source": [
    "save_model(model, \"C:\\\\Users\\\\fturc\\\\RPS\\\\RPSmodel.h5\")"
   ]
  }
 ],
 "metadata": {
  "kernelspec": {
   "display_name": "Python 3 (ipykernel)",
   "language": "python",
   "name": "python3"
  },
  "language_info": {
   "codemirror_mode": {
    "name": "ipython",
    "version": 3
   },
   "file_extension": ".py",
   "mimetype": "text/x-python",
   "name": "python",
   "nbconvert_exporter": "python",
   "pygments_lexer": "ipython3",
   "version": "3.10.9"
  }
 },
 "nbformat": 4,
 "nbformat_minor": 5
}
